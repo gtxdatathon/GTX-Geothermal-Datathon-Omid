{
 "cells": [
  {
   "cell_type": "markdown",
   "id": "47e9964f-dbce-4f42-a6e7-631a27bebbf7",
   "metadata": {},
   "source": [
    "# The autograd package and calculation of gradients\n",
    "## Here, we will see how the autograd from PyTorch can be used to calculate the gradient of a funciton with respect to its parameters\n",
    " \n",
    " ## This notebook is following and borrows from\n",
    " ###### https://youtube.com/playlist?list=PLqnslRFeH2UrcDBWF5mfPGpqQDSta6VK4\n",
    " \n",
    " "
   ]
  },
  {
   "cell_type": "code",
   "execution_count": 15,
   "id": "2adbea65-cad8-4d89-a8cc-12794e9c70a9",
   "metadata": {},
   "outputs": [
    {
     "name": "stdout",
     "output_type": "stream",
     "text": [
      "tensor([0.2549], requires_grad=True)\n"
     ]
    }
   ],
   "source": [
    "import torch\n",
    "\n",
    "x = torch.rand(1, requires_grad=True)\n",
    "print(x)"
   ]
  },
  {
   "cell_type": "code",
   "execution_count": 16,
   "id": "08560aa9-b1fa-4da6-9959-a92efe4302a4",
   "metadata": {},
   "outputs": [],
   "source": [
    "y = x * 5"
   ]
  },
  {
   "cell_type": "code",
   "execution_count": 17,
   "id": "7d93d109-4480-4c02-99cc-68c0f352a902",
   "metadata": {},
   "outputs": [
    {
     "name": "stdout",
     "output_type": "stream",
     "text": [
      "tensor([1.2745], grad_fn=<MulBackward0>)\n"
     ]
    }
   ],
   "source": [
    "print(y)"
   ]
  },
  {
   "cell_type": "code",
   "execution_count": 18,
   "id": "3e364973-fdcc-4ff4-8fef-7b900630ec14",
   "metadata": {},
   "outputs": [
    {
     "name": "stdout",
     "output_type": "stream",
     "text": [
      "tensor([46.2745], grad_fn=<AddBackward0>)\n"
     ]
    }
   ],
   "source": [
    "z = y + 45\n",
    "print(z)"
   ]
  },
  {
   "cell_type": "code",
   "execution_count": 19,
   "id": "2a406935-f45b-4b0c-b33a-9e7c7d346684",
   "metadata": {},
   "outputs": [
    {
     "name": "stdout",
     "output_type": "stream",
     "text": [
      "None\n",
      "tensor([5.])\n"
     ]
    }
   ],
   "source": [
    "print(x.grad)\n",
    "z.backward()\n",
    "print(x.grad)"
   ]
  },
  {
   "cell_type": "markdown",
   "id": "3b273037-81d6-4a4f-8649-5764ec79c2e2",
   "metadata": {},
   "source": [
    "## What happens when we do not want autograd to calculate gradiants and update one of our parameters\n",
    "\n",
    "### We can simply .detach() the parameter from the autograd gradient tree"
   ]
  },
  {
   "cell_type": "code",
   "execution_count": 38,
   "id": "623f90ff-3b2f-4d5e-bc83-7e0e2cbb7ba1",
   "metadata": {},
   "outputs": [
    {
     "data": {
      "text/plain": [
       "tensor([0.4239])"
      ]
     },
     "execution_count": 38,
     "metadata": {},
     "output_type": "execute_result"
    }
   ],
   "source": [
    "x.requires_grad_(False)"
   ]
  },
  {
   "cell_type": "code",
   "execution_count": 39,
   "id": "0f173f2f-63a0-426c-a3b2-548087156f1f",
   "metadata": {},
   "outputs": [
    {
     "name": "stdout",
     "output_type": "stream",
     "text": [
      "tensor([0.4239])\n"
     ]
    }
   ],
   "source": [
    "print(x)"
   ]
  },
  {
   "cell_type": "markdown",
   "id": "03cdfb95-70d3-4662-8745-5d894b993087",
   "metadata": {},
   "source": [
    "### OR we can use the torch nograd function\n",
    "### This function stops the autograd package from constructing the gradient tree"
   ]
  },
  {
   "cell_type": "code",
   "execution_count": 20,
   "id": "4fbfd3b1-44f2-4ab3-96b6-b090392aa0f4",
   "metadata": {},
   "outputs": [
    {
     "name": "stdout",
     "output_type": "stream",
     "text": [
      "tensor([0.8407], requires_grad=True)\n",
      "tensor([2.8407])\n"
     ]
    }
   ],
   "source": [
    "x = torch.rand(1, requires_grad=True)\n",
    "print(x)\n",
    "with torch.no_grad():\n",
    "    y = x + 2\n",
    "    print(y)"
   ]
  },
  {
   "cell_type": "markdown",
   "id": "132ae1e2-2d5d-4976-a385-d7336ffcccd3",
   "metadata": {},
   "source": [
    "### Whenever we call the backward function new gradient values will be accumulated in the previous grad values\n",
    "### To stop this from happening, we need to set the gradient to zero in each epoch of our training\n",
    "### This is done by "
   ]
  },
  {
   "cell_type": "code",
   "execution_count": 22,
   "id": "c4269041-5e25-443d-aa0e-5cea5d41b030",
   "metadata": {},
   "outputs": [
    {
     "name": "stdout",
     "output_type": "stream",
     "text": [
      "tensor([4.])\n",
      "tensor([8.])\n",
      "tensor([12.])\n",
      "tensor([16.])\n"
     ]
    }
   ],
   "source": [
    "x = torch.rand(1, requires_grad=True)\n",
    "for i in range(4):\n",
    "    y = x * 4\n",
    "    z = y + 45\n",
    "    z.backward();\n",
    "    print(x.grad)"
   ]
  },
  {
   "cell_type": "code",
   "execution_count": 24,
   "id": "5b2dbe3b-3083-4471-8c99-f45e9519fc28",
   "metadata": {},
   "outputs": [
    {
     "name": "stdout",
     "output_type": "stream",
     "text": [
      "tensor([4.])\n",
      "tensor([4.])\n",
      "tensor([4.])\n",
      "tensor([4.])\n"
     ]
    }
   ],
   "source": [
    "x = torch.rand(1, requires_grad=True)\n",
    "for i in range(4):\n",
    "    y = x * 4\n",
    "    z = y + 45\n",
    "    z.backward();\n",
    "    print(x.grad)\n",
    "    x.grad.zero_()"
   ]
  },
  {
   "cell_type": "code",
   "execution_count": null,
   "id": "7df60ef0-5c17-478a-b65e-3d35172c6959",
   "metadata": {},
   "outputs": [],
   "source": []
  }
 ],
 "metadata": {
  "kernelspec": {
   "display_name": "Python 3",
   "language": "python",
   "name": "python3"
  },
  "language_info": {
   "codemirror_mode": {
    "name": "ipython",
    "version": 3
   },
   "file_extension": ".py",
   "mimetype": "text/x-python",
   "name": "python",
   "nbconvert_exporter": "python",
   "pygments_lexer": "ipython3",
   "version": "3.6.9"
  }
 },
 "nbformat": 4,
 "nbformat_minor": 5
}
