{
 "cells": [
  {
   "cell_type": "markdown",
   "id": "5954fae4-14b7-45c9-9628-ab4808f51f46",
   "metadata": {},
   "source": [
    "# Linear regression using PyTorch \n",
    "## What is Linear Regression?\n",
    "### Regression is a method of modelling a target value based on independent predictors. This method is mostly used for forecasting and finding out cause and effect relationship between variables. Regression techniques mostly differ based on the number of independent variables and the type of relationship between the independent and dependent variables [1].\n",
    "\n",
    "### In this notebook, we are going to build a regression model that is going to learn proper weights that map the input x (independent variable) to y (dependent variable).\n",
    "\n",
    "## This notebook is following and borrows from\n",
    "###### https://youtube.com/playlist?list=PLqnslRFeH2UrcDBWF5mfPGpqQDSta6VK4\n",
    "\n",
    "###### 1. https://towardsdatascience.com/introduction-to-machine-learning-algorithms-linear-regression-14c4e325882a\n"
   ]
  },
  {
   "cell_type": "code",
   "execution_count": 1,
   "id": "2ee1d342-8cc6-4e25-9808-af1a1c083f30",
   "metadata": {},
   "outputs": [],
   "source": [
    "import torch\n",
    "import torch.nn as nn\n",
    "import numpy as np\n",
    "from sklearn import datasets\n",
    "import matplotlib.pyplot as plt"
   ]
  },
  {
   "cell_type": "markdown",
   "id": "a9097ff4-379e-4d29-9d4b-5725faffd986",
   "metadata": {},
   "source": [
    "## + Data Preparation\n",
    "\n",
    "### We will use the Scikit-learn module to produce a regression dataset"
   ]
  },
  {
   "cell_type": "code",
   "execution_count": 4,
   "id": "591d0f8e-2f59-43c2-9431-5dc1434ad7d8",
   "metadata": {},
   "outputs": [],
   "source": [
    "X_np, y_np = datasets.make_regression(n_samples=100, n_features = 1, noise=20, random_state=1)\n",
    "y_np = y_np.reshape(100, 1)\n",
    "X = torch.from_numpy(X_np.astype(np.float32))\n",
    "y = torch.from_numpy(y_np.astype(np.float32))\n",
    "n_samples, n_features = X.shape"
   ]
  },
  {
   "cell_type": "markdown",
   "id": "5f91485f-e2fd-4051-9698-96304fc7f4cb",
   "metadata": {},
   "source": [
    "## + Now, we will first make our Regression Model"
   ]
  },
  {
   "cell_type": "code",
   "execution_count": 6,
   "id": "e65b824e-ba88-4cb2-a00e-3682ff04a045",
   "metadata": {},
   "outputs": [],
   "source": [
    "input_size = n_features\n",
    "output_size = 1\n",
    "model = nn.Linear(input_size, output_size)"
   ]
  },
  {
   "cell_type": "markdown",
   "id": "ae298a58-ebb1-4169-8a82-61365518c6f2",
   "metadata": {},
   "source": [
    "## + Next, let's just setup the Loss function and the Optimizer\n",
    "\n",
    "#### for our loss function, we will use the Mean Squared Error Loss which is as \n",
    "\n",
    "### Sum_over_samples (y_pred - y) ^ 2 / num_samples"
   ]
  },
  {
   "cell_type": "code",
   "execution_count": 7,
   "id": "6988d6db-4da2-48d9-80ca-4831221a7f16",
   "metadata": {},
   "outputs": [],
   "source": [
    "lr = 0.01 # Learning Rate\n",
    "criterion = nn.MSELoss()\n",
    "optimizer = torch.optim.SGD(model.parameters(), lr = lr)"
   ]
  },
  {
   "cell_type": "markdown",
   "id": "26dfce3e-e6ba-4c5d-81f0-f0d697dbc141",
   "metadata": {},
   "source": [
    "## + Let's create our training loops by creating the forward pass, loss, and backward pass"
   ]
  },
  {
   "cell_type": "code",
   "execution_count": 8,
   "id": "2aa998b0-cc43-4c6c-9198-e389f66dc992",
   "metadata": {},
   "outputs": [
    {
     "name": "stdout",
     "output_type": "stream",
     "text": [
      "Epoch  0  loss is  5861.2451171875\n",
      "Epoch  10  loss is  4337.283203125\n",
      "Epoch  20  loss is  3236.2568359375\n",
      "Epoch  30  loss is  2439.8564453125\n",
      "Epoch  40  loss is  1863.1724853515625\n",
      "Epoch  50  loss is  1445.166259765625\n",
      "Epoch  60  loss is  1141.8936767578125\n",
      "Epoch  70  loss is  921.6724853515625\n",
      "Epoch  80  loss is  761.6322021484375\n",
      "Epoch  90  loss is  645.2415771484375\n",
      "Epoch  100  loss is  560.5384521484375\n",
      "Epoch  110  loss is  498.8579406738281\n",
      "Epoch  120  loss is  453.9165954589844\n",
      "Epoch  130  loss is  421.1552429199219\n",
      "Epoch  140  loss is  397.2614440917969\n",
      "Epoch  150  loss is  379.8271789550781\n",
      "Epoch  160  loss is  367.10125732421875\n",
      "Epoch  170  loss is  357.808837890625\n",
      "Epoch  180  loss is  351.0212097167969\n",
      "Epoch  190  loss is  346.0619201660156\n"
     ]
    }
   ],
   "source": [
    "num_epochs = 200\n",
    "for epoch in range(num_epochs):\n",
    "    y_pred = model(X)\n",
    "    \n",
    "    loss = criterion(y_pred, y)\n",
    "    \n",
    "    loss.backward()\n",
    "    \n",
    "    optimizer.step() # Updates the weights\n",
    "    \n",
    "    optimizer.zero_grad() # Zero-out the Gradients\n",
    "    \n",
    "    if (epoch) % 10 == 0:\n",
    "        print(\"Epoch \", epoch, \" loss is \", loss.item());"
   ]
  },
  {
   "cell_type": "code",
   "execution_count": 9,
   "id": "e8a454cf-accd-44b2-96d2-e29fe0a7c0a6",
   "metadata": {},
   "outputs": [
    {
     "data": {
      "text/plain": [
       "[<matplotlib.lines.Line2D at 0x7f216e450a58>]"
      ]
     },
     "execution_count": 9,
     "metadata": {},
     "output_type": "execute_result"
    },
    {
     "data": {
      "image/png": "[encoded data removed]",
      "text/plain": [
       "<Figure size 432x288 with 1 Axes>"
      ]
     },
     "metadata": {
      "needs_background": "light"
     },
     "output_type": "display_data"
    }
   ],
   "source": [
    "predicted = model(X).detach().numpy()\n",
    "plt.plot(X_np, y_np, 'ro')\n",
    "plt.plot(X_np, predicted, 'b')"
   ]
  },
  {
   "cell_type": "code",
   "execution_count": null,
   "id": "cc02d799-15a7-47b9-a22f-4198d1b4d872",
   "metadata": {},
   "outputs": [],
   "source": []
  }
 ],
 "metadata": {
  "kernelspec": {
   "display_name": "Python 3",
   "language": "python",
   "name": "python3"
  },
  "language_info": {
   "codemirror_mode": {
    "name": "ipython",
    "version": 3
   },
   "file_extension": ".py",
   "mimetype": "text/x-python",
   "name": "python",
   "nbconvert_exporter": "python",
   "pygments_lexer": "ipython3",
   "version": "3.6.9"
  }
 },
 "nbformat": 4,
 "nbformat_minor": 5
}
