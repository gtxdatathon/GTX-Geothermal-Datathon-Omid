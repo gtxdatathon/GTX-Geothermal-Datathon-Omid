{
 "cells": [
  {
   "cell_type": "markdown",
   "id": "4626a108-8a5a-4071-9918-8b932a5a81d0",
   "metadata": {},
   "source": [
    "## What are Tensors?\n",
    "### A tensor is a generalization of vectors and matrices and is easily understood as a multidimensional array.\n",
    "### In the general case, an array of numbers arranged on a regular grid with a variable number of axes is known as a tensor [1].\n",
    "\n",
    "#### 1. https://machinelearningmastery.com/introduction-to-tensors-for-machine-learning/\n",
    "\n",
    " \n",
    " ## This notebook is following and borrows from\n",
    " ###### https://youtube.com/playlist?list=PLqnslRFeH2UrcDBWF5mfPGpqQDSta6VK4"
   ]
  },
  {
   "cell_type": "code",
   "execution_count": 4,
   "id": "fb93c840-dc89-4b6f-b8c5-98c8c7345221",
   "metadata": {},
   "outputs": [
    {
     "name": "stdout",
     "output_type": "stream",
     "text": [
      "tensor([1916366112,      32523, 1916366112,      32523,         32],\n",
      "       dtype=torch.int32)\n",
      "torch.int32\n",
      "torch.Size([5])\n"
     ]
    }
   ],
   "source": [
    "import torch\n",
    "x = torch.empty(5, dtype=torch.int32)\n",
    "print(x)\n",
    "print(x.dtype)\n",
    "print(x.size())"
   ]
  },
  {
   "cell_type": "code",
   "execution_count": 5,
   "id": "714c1ffc-89f6-4217-8eda-833566208c16",
   "metadata": {},
   "outputs": [
    {
     "name": "stdout",
     "output_type": "stream",
     "text": [
      "tensor([0., 0., 0., 0., 0.])\n"
     ]
    }
   ],
   "source": [
    "x = torch.zeros(5)\n",
    "print(x)"
   ]
  },
  {
   "cell_type": "code",
   "execution_count": 6,
   "id": "d7f20f12-cd24-4986-b2ae-9e67770a4b66",
   "metadata": {},
   "outputs": [
    {
     "name": "stdout",
     "output_type": "stream",
     "text": [
      "tensor([1., 1., 1., 1., 1.])\n"
     ]
    }
   ],
   "source": [
    "x = torch.ones(5)\n",
    "print(x)"
   ]
  },
  {
   "cell_type": "code",
   "execution_count": 7,
   "id": "8533ac9b-1f0a-4d02-969e-1bb19c13c00e",
   "metadata": {},
   "outputs": [
    {
     "name": "stdout",
     "output_type": "stream",
     "text": [
      "tensor([[0.4541, 0.4800, 0.7946, 0.3814],\n",
      "        [0.0335, 0.7801, 0.6789, 0.5361]])\n"
     ]
    }
   ],
   "source": [
    "x = torch.rand(2, 4)\n",
    "print(x)"
   ]
  },
  {
   "cell_type": "markdown",
   "id": "561c5241-50d6-492f-a831-71b67508ab7b",
   "metadata": {},
   "source": [
    "%%%%%%%%%%%%%%%%%%%%%%%%%%%%%%%%%%%%%%\n",
    "### We can also create tensors from other python data types such as lists or numpy arrays"
   ]
  },
  {
   "cell_type": "code",
   "execution_count": 17,
   "id": "e359a4b1-d89b-49b4-bba6-bdb90b1a54fd",
   "metadata": {},
   "outputs": [
    {
     "name": "stdout",
     "output_type": "stream",
     "text": [
      "tensor([ 2,  3,  6,  8, 79])\n"
     ]
    }
   ],
   "source": [
    "x = torch.tensor([2, 3, 6, 8, 79])\n",
    "print(x)"
   ]
  },
  {
   "cell_type": "code",
   "execution_count": 18,
   "id": "7e0ca68b-1b91-47e7-b865-075ed3a3befd",
   "metadata": {},
   "outputs": [
    {
     "name": "stdout",
     "output_type": "stream",
     "text": [
      "tensor([ 2,  3,  5,  8, 79])\n"
     ]
    }
   ],
   "source": [
    "import numpy as np\n",
    "y = np.array([2, 3, 5, 8, 79])\n",
    "x = torch.from_numpy(y)\n",
    "print(x)"
   ]
  },
  {
   "cell_type": "markdown",
   "id": "2980c7de-b6f8-455c-92a1-694e199f5d48",
   "metadata": {},
   "source": [
    "%%%%%%%%%%%%%%%%%%%%%%%%%%%%%%%%%%%%%%\n",
    "### Now Let's see about some basic tensor operations"
   ]
  },
  {
   "cell_type": "code",
   "execution_count": 8,
   "id": "3091f395-b285-402c-a150-50737179429b",
   "metadata": {},
   "outputs": [
    {
     "name": "stdout",
     "output_type": "stream",
     "text": [
      "tensor([0.6202, 0.8928])\n",
      "tensor([0.8578, 0.7175])\n",
      "\n",
      "#################\n",
      "Summation tensor([1.4780, 1.6104])\n",
      "Subtraction tensor([-0.2375,  0.1753])\n",
      "\n",
      "#################\n",
      "Summation tensor([1.4780, 1.6104])\n",
      "Subtraction tensor([-0.2375,  0.1753])\n"
     ]
    }
   ],
   "source": [
    "x = torch.rand(2)\n",
    "y = torch.rand(2)\n",
    "\n",
    "print(x)\n",
    "print(y)\n",
    "\n",
    "print()\n",
    "print(\"#################\")\n",
    "\n",
    "print(\"Summation\", x+y)\n",
    "print(\"Subtraction\", x-y)\n",
    "\n",
    "# OR\n",
    "print()\n",
    "print(\"#################\")\n",
    "\n",
    "print(\"Summation\", torch.add(x,y))\n",
    "print(\"Subtraction\", torch.sub(x,y))"
   ]
  },
  {
   "cell_type": "code",
   "execution_count": 27,
   "id": "19152479-a7cd-45a0-a791-ef67f9fdb018",
   "metadata": {},
   "outputs": [
    {
     "name": "stdout",
     "output_type": "stream",
     "text": [
      "Multiplication tensor([0.3633, 0.1856])\n",
      "Division tensor([1.4387, 4.6584])\n"
     ]
    }
   ],
   "source": [
    "print(\"Multiplication\", torch.mul(x,y))\n",
    "print(\"Division\", torch.div(x,y))"
   ]
  },
  {
   "cell_type": "code",
   "execution_count": 28,
   "id": "e90e22bf-9bc7-4a7a-9f40-569225de07ff",
   "metadata": {},
   "outputs": [
    {
     "name": "stdout",
     "output_type": "stream",
     "text": [
      "tensor([[0.5853, 0.7460, 0.9700, 0.6414, 0.4475],\n",
      "        [0.7837, 0.0480, 0.6598, 0.7582, 0.2965],\n",
      "        [0.6757, 0.8456, 0.2697, 0.5810, 0.4508]])\n",
      "0.6598471403121948\n"
     ]
    }
   ],
   "source": [
    "x = torch.rand(3, 5)\n",
    "print(x)\n",
    "print(x[1, 2].item())"
   ]
  },
  {
   "cell_type": "code",
   "execution_count": 9,
   "id": "1ae1137d-35ab-4257-a8b7-4e3296b12543",
   "metadata": {},
   "outputs": [],
   "source": [
    "if torch.cuda.is_available():\n",
    "    device = torch.device(\"cuda\")\n",
    "    x = torch.ones(5)\n",
    "    x = x.to(device)"
   ]
  },
  {
   "cell_type": "code",
   "execution_count": null,
   "id": "b6e17eaa-f299-484d-8160-7661f4f2b1cb",
   "metadata": {},
   "outputs": [],
   "source": []
  }
 ],
 "metadata": {
  "kernelspec": {
   "display_name": "Python 3",
   "language": "python",
   "name": "python3"
  },
  "language_info": {
   "codemirror_mode": {
    "name": "ipython",
    "version": 3
   },
   "file_extension": ".py",
   "mimetype": "text/x-python",
   "name": "python",
   "nbconvert_exporter": "python",
   "pygments_lexer": "ipython3",
   "version": "3.6.9"
  }
 },
 "nbformat": 4,
 "nbformat_minor": 5
}
